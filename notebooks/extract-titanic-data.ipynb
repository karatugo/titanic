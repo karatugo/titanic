{
 "cells": [
  {
   "cell_type": "markdown",
   "metadata": {},
   "source": [
    "# File script"
   ]
  },
  {
   "cell_type": "code",
   "execution_count": 1,
   "metadata": {
    "collapsed": true
   },
   "outputs": [],
   "source": [
    "import os\n",
    "\n",
    "get_raw_data_script_file = os.path.join(os.path.pardir, 'src', 'data', 'get_raw_data.py')"
   ]
  },
  {
   "cell_type": "code",
   "execution_count": 7,
   "metadata": {},
   "outputs": [
    {
     "name": "stdout",
     "output_type": "stream",
     "text": [
      "Overwriting ../src/data/get_raw_data.py\n"
     ]
    }
   ],
   "source": [
    "%%writefile $get_raw_data_script_file\n",
    "\n",
    "import requests\n",
    "from requests import session\n",
    "import os\n",
    "from dotenv import load_dotenv, find_dotenv\n",
    "import logging\n",
    "\n",
    "payload = {\n",
    "    \"action\": \"login\",\n",
    "    \"username\": os.environ.get(\"KAGGLE_USERNAME\"),\n",
    "    \"password\": os.environ.get(\"KAGGLE_PASSWORD\")\n",
    "}\n",
    "\n",
    "login_url = \"https://www.kaggle.com/account/login\"\n",
    "\n",
    "def extract_data(file_path, url):\n",
    "\n",
    "    with session() as s:\n",
    "        s.post(login_url, data=payload)\n",
    "        \n",
    "        with open(file_path, \"w\") as handle:\n",
    "            response = s.get(url, stream=True)\n",
    "            \n",
    "            for block in response.iter_content(1024):\n",
    "                handle.write(block)\n",
    "\n",
    "def main(project_dir):\n",
    "    logger = logging.getLogger(__name__)\n",
    "    logger.info(\"Getting raw data\")\n",
    "    \n",
    "    training_data_url = \"https://www.kaggle.com/c/titanic/download/train.csv\"\n",
    "    test_data_url = \"https://www.kaggle.com/c/titanic/download/test.csv\"\n",
    "    \n",
    "    raw_data_path = os.path.join(project_dir, 'data', 'raw')\n",
    "    train_data_path = os.path.join(raw_data_path, 'train.csv')\n",
    "    test_data_path = os.path.join(raw_data_path, 'test.csv')\n",
    "        \n",
    "    extract_data(train_data_path, training_data_url)\n",
    "    extract_data(test_data_path, test_data_url)\n",
    "    \n",
    "    logger.info(\"Downloaded raw data\")\n",
    "    \n",
    "    \n",
    "if __name__ == \"__main__\":\n",
    "    project_dir = os.path.join(os.path.dirname(__file__), os.path.pardir, os.path.pardir)\n",
    "    log_fmt = \"%(asctime)s - %(name)s - %(levelname)s - %(message)s\"\n",
    "    logging.basicConfig(level=logging.INFO, format=log_fmt)\n",
    "    dotenv_path = find_dotenv()\n",
    "    load_dotenv(dotenv_path)\n",
    "    main(project_dir)"
   ]
  },
  {
   "cell_type": "code",
   "execution_count": 8,
   "metadata": {},
   "outputs": [
    {
     "name": "stdout",
     "output_type": "stream",
     "text": [
      "2018-01-13 20:29:38,878 - __main__ - INFO - Getting raw data\n",
      "../src/data/../../data/raw/train.csv\n",
      "2018-01-13 20:29:41,767 - __main__ - INFO - Downloaded raw data\n"
     ]
    }
   ],
   "source": [
    "! python $get_raw_data_script_file"
   ]
  },
  {
   "cell_type": "code",
   "execution_count": null,
   "metadata": {
    "collapsed": true
   },
   "outputs": [],
   "source": []
  }
 ],
 "metadata": {
  "kernelspec": {
   "display_name": "Python 2",
   "language": "python",
   "name": "python2"
  },
  "language_info": {
   "codemirror_mode": {
    "name": "ipython",
    "version": 2
   },
   "file_extension": ".py",
   "mimetype": "text/x-python",
   "name": "python",
   "nbconvert_exporter": "python",
   "pygments_lexer": "ipython2",
   "version": "2.7.14"
  }
 },
 "nbformat": 4,
 "nbformat_minor": 2
}
